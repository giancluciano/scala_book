{
 "cells": [
  {
   "cell_type": "code",
   "execution_count": 2,
   "id": "4b03716f-1c10-4f3b-8cea-4c92b06f1d8c",
   "metadata": {},
   "outputs": [
    {
     "data": {
      "text/plain": [
       "defined \u001b[32mclass\u001b[39m \u001b[36mPoint\u001b[39m\n",
       "\u001b[36mpoint\u001b[39m: \u001b[32mPoint\u001b[39m = \u001b[33mPoint\u001b[39m(x = \u001b[32m1\u001b[39m, y = \u001b[32m2\u001b[39m)\n",
       "\u001b[36manotherPoint\u001b[39m: \u001b[32mPoint\u001b[39m = \u001b[33mPoint\u001b[39m(x = \u001b[32m1\u001b[39m, y = \u001b[32m2\u001b[39m)\n",
       "\u001b[36myetAnotherPoint\u001b[39m: \u001b[32mPoint\u001b[39m = \u001b[33mPoint\u001b[39m(x = \u001b[32m2\u001b[39m, y = \u001b[32m2\u001b[39m)"
      ]
     },
     "execution_count": 2,
     "metadata": {},
     "output_type": "execute_result"
    }
   ],
   "source": [
    "// case classes\n",
    "//instances of case classes are immutable, and they are compared by value (unlike classes, whose instances are compared by reference). This makes them additionally useful for pattern matching.\n",
    "case class Point(x: Int, y: Int)\n",
    "val point = Point(1, 2)\n",
    "val anotherPoint = Point(1, 2)\n",
    "val yetAnotherPoint = Point(2, 2)"
   ]
  },
  {
   "cell_type": "code",
   "execution_count": 3,
   "id": "7c25b284-faa4-4969-afa4-ff902f1c486b",
   "metadata": {},
   "outputs": [
    {
     "name": "stdout",
     "output_type": "stream",
     "text": [
      "Point(1,2) and Point(1,2) are the same.\n",
      "Point(1,2) and Point(2,2) are different.\n"
     ]
    }
   ],
   "source": [
    "if point == anotherPoint then\n",
    "  println(s\"$point and $anotherPoint are the same.\")\n",
    "else\n",
    "  println(s\"$point and $anotherPoint are different.\")\n",
    "\n",
    "if point == yetAnotherPoint then\n",
    "  println(s\"$point and $yetAnotherPoint are the same.\")\n",
    "else\n",
    "  println(s\"$point and $yetAnotherPoint are different.\")"
   ]
  },
  {
   "cell_type": "code",
   "execution_count": 5,
   "id": "a38722af-55f8-4e6b-a358-ecd0fce8ac38",
   "metadata": {},
   "outputs": [
    {
     "data": {
      "text/plain": [
       "\u001b[36mpointCopied\u001b[39m: \u001b[32mPoint\u001b[39m = \u001b[33mPoint\u001b[39m(x = \u001b[32m2\u001b[39m, y = \u001b[32m2\u001b[39m)"
      ]
     },
     "execution_count": 5,
     "metadata": {},
     "output_type": "execute_result"
    }
   ],
   "source": [
    "val pointCopied = point.copy(x=2)"
   ]
  },
  {
   "cell_type": "code",
   "execution_count": null,
   "id": "bf6a9826-d182-4b82-a3d9-5e2b51491b71",
   "metadata": {},
   "outputs": [],
   "source": []
  }
 ],
 "metadata": {
  "kernelspec": {
   "display_name": "Scala",
   "language": "scala3",
   "name": "scala"
  },
  "language_info": {
   "codemirror_mode": "text/x-scala",
   "file_extension": ".sc",
   "mimetype": "text/x-scala",
   "name": "scala",
   "nbconvert_exporter": "script",
   "version": "2.13.16"
  }
 },
 "nbformat": 4,
 "nbformat_minor": 5
}
