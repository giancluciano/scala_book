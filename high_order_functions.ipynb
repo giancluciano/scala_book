{
 "cells": [
  {
   "cell_type": "code",
   "execution_count": 1,
   "id": "a7d09650-9002-47a8-ad4d-ad8556a7119f",
   "metadata": {},
   "outputs": [
    {
     "data": {
      "text/plain": [
       "defined \u001b[32mfunction\u001b[39m \u001b[36mapplyTwice\u001b[39m"
      ]
     },
     "execution_count": 1,
     "metadata": {},
     "output_type": "execute_result"
    }
   ],
   "source": [
    "// 1. Basic Higher-Order Function Definition\n",
    "// A function that takes another function as parameter\n",
    "def applyTwice[A](f: A => A, x: A): A = f(f(x))"
   ]
  },
  {
   "cell_type": "code",
   "execution_count": 2,
   "id": "a5905aa0-799f-4d29-b407-609aef6a7a0a",
   "metadata": {},
   "outputs": [
    {
     "data": {
      "text/plain": [
       "\u001b[36mincrement\u001b[39m: \u001b[32mInt\u001b[39m => \u001b[32mInt\u001b[39m = ammonite.$sess.cmd2$Helper$$Lambda$2842/0x0000000100dc6040@72a8c0a4\n",
       "\u001b[36mdouble\u001b[39m: \u001b[32mInt\u001b[39m => \u001b[32mInt\u001b[39m = ammonite.$sess.cmd2$Helper$$Lambda$2843/0x0000000100dc6840@4174cd5d"
      ]
     },
     "execution_count": 2,
     "metadata": {},
     "output_type": "execute_result"
    }
   ],
   "source": [
    "val increment = (x: Int) => x + 1\n",
    "val double = (x: Int) => x * 2"
   ]
  },
  {
   "cell_type": "code",
   "execution_count": 3,
   "id": "745155b1-95c2-47cd-8330-fb3856bbb22b",
   "metadata": {},
   "outputs": [
    {
     "name": "stdout",
     "output_type": "stream",
     "text": [
      "applyTwice(increment, 5) = 7\n",
      "applyTwice(double, 3) = 12\n"
     ]
    }
   ],
   "source": [
    "println(s\"applyTwice(increment, 5) = ${applyTwice(increment, 5)}\")\n",
    "println(s\"applyTwice(double, 3) = ${applyTwice(double, 3)}\")"
   ]
  },
  {
   "cell_type": "code",
   "execution_count": 4,
   "id": "be545151-082e-442a-a450-2b1a6bfc4158",
   "metadata": {},
   "outputs": [
    {
     "data": {
      "text/plain": [
       "defined \u001b[32mfunction\u001b[39m \u001b[36mmultiplier\u001b[39m"
      ]
     },
     "execution_count": 4,
     "metadata": {},
     "output_type": "execute_result"
    }
   ],
   "source": [
    "// 2. Functions returning functions (Currying)\n",
    "def multiplier(factor: Int): Int => Int = (x: Int) => x * factor"
   ]
  },
  {
   "cell_type": "code",
   "execution_count": 5,
   "id": "d55223b5-17e5-4930-b475-9ff78b143c78",
   "metadata": {},
   "outputs": [
    {
     "name": "stdout",
     "output_type": "stream",
     "text": [
      "\n",
      "2. Functions Returning Functions:\n",
      "triple(5) = 15\n",
      "quadruple(7) = 28\n"
     ]
    },
    {
     "data": {
      "text/plain": [
       "\u001b[36mtriple\u001b[39m: \u001b[32mInt\u001b[39m => \u001b[32mInt\u001b[39m = ammonite.$sess.cmd4$Helper$$Lambda$2912/0x0000000100df4840@e99f3c6\n",
       "\u001b[36mquadruple\u001b[39m: \u001b[32mInt\u001b[39m => \u001b[32mInt\u001b[39m = ammonite.$sess.cmd4$Helper$$Lambda$2912/0x0000000100df4840@7bf0c97a"
      ]
     },
     "execution_count": 5,
     "metadata": {},
     "output_type": "execute_result"
    }
   ],
   "source": [
    "val triple = multiplier(3)\n",
    "val quadruple = multiplier(4)\n",
    "\n",
    "println(\"\\n2. Functions Returning Functions:\")\n",
    "println(s\"triple(5) = ${triple(5)}\")\n",
    "println(s\"quadruple(7) = ${quadruple(7)}\")"
   ]
  },
  {
   "cell_type": "code",
   "execution_count": null,
   "id": "dd7e24c3-0c74-4af1-b029-9625e6c8731a",
   "metadata": {},
   "outputs": [],
   "source": []
  }
 ],
 "metadata": {
  "kernelspec": {
   "display_name": "Scala",
   "language": "scala3",
   "name": "scala"
  },
  "language_info": {
   "codemirror_mode": "text/x-scala",
   "file_extension": ".sc",
   "mimetype": "text/x-scala",
   "name": "scala",
   "nbconvert_exporter": "script",
   "version": "2.13.16"
  }
 },
 "nbformat": 4,
 "nbformat_minor": 5
}
