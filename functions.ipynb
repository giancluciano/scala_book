{
 "cells": [
  {
   "cell_type": "code",
   "execution_count": 1,
   "id": "d29f925d-eb2a-4a0d-9813-1fb02a81eda1",
   "metadata": {},
   "outputs": [
    {
     "name": "stdout",
     "output_type": "stream",
     "text": [
      "1\n",
      "2\n",
      "3\n",
      "1\n",
      "2\n",
      "3\n",
      "1\n",
      "2\n",
      "3\n",
      "1\n",
      "2\n",
      "3\n"
     ]
    },
    {
     "data": {
      "text/plain": [
       "\u001b[36mints\u001b[39m: \u001b[32mList\u001b[39m[\u001b[32mInt\u001b[39m] = \u001b[33mList\u001b[39m(\u001b[32m1\u001b[39m, \u001b[32m2\u001b[39m, \u001b[32m3\u001b[39m)\n",
       "\u001b[36mdoubledInts\u001b[39m: \u001b[32mList\u001b[39m[\u001b[32mInt\u001b[39m] = \u001b[33mList\u001b[39m(\u001b[32m2\u001b[39m, \u001b[32m4\u001b[39m, \u001b[32m6\u001b[39m)"
      ]
     },
     "execution_count": 1,
     "metadata": {},
     "output_type": "execute_result"
    }
   ],
   "source": [
    "val ints = List(1, 2, 3)\n",
    "var doubledInts = ints.map(_ * 2)   // _ * 2 is an anonymous function\n",
    "\n",
    "// longer forms\n",
    "doubledInts = ints.map((i: Int) => i * 2)\n",
    "doubledInts = ints.map((i) => i * 2)\n",
    "doubledInts = ints.map(i => i * 2)\n",
    "\n",
    "// foreach\n",
    "ints.foreach((i: Int) => println(i))\n",
    "ints.foreach(i => println(i))\n",
    "ints.foreach(println(_))\n",
    "ints.foreach(println)"
   ]
  },
  {
   "cell_type": "code",
   "execution_count": null,
   "id": "9079cc01-dc81-491f-a748-4a81a30de80f",
   "metadata": {},
   "outputs": [],
   "source": [
    "// function variable\n",
    "val double = (i: Int) => i * 2\n",
    "val triple = (i: Int) => i * 3\n",
    "val x = double(2)   // 4\n",
    "ints.map(double)\n",
    "// storing function on list or map \n",
    "// a List that contains functions of the type `Int => Int`\n",
    "val functionList: List[Int => Int] = List(double, triple)\n",
    "\n",
    "// a Map whose keys have the type `String`, and whose\n",
    "// values have the type `Int => Int`\n",
    "val functionMap = Map(\n",
    "  \"2x\" -> double,\n",
    "  \"3x\" -> triple\n",
    ")\n"
   ]
  }
 ],
 "metadata": {
  "kernelspec": {
   "display_name": "Scala",
   "language": "scala3",
   "name": "scala"
  },
  "language_info": {
   "codemirror_mode": "text/x-scala",
   "file_extension": ".sc",
   "mimetype": "text/x-scala",
   "name": "scala",
   "nbconvert_exporter": "script",
   "version": "2.13.16"
  }
 },
 "nbformat": 4,
 "nbformat_minor": 5
}
