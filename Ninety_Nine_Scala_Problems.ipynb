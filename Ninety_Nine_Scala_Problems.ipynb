{
 "cells": [
  {
   "cell_type": "markdown",
   "id": "5a3ecb34-862e-4450-961e-b463d0b5f9dc",
   "metadata": {},
   "source": [
    "# Ninety-Nine Scala Problems\n",
    "https://aperiodic.net/pip/scala/s-99/"
   ]
  },
  {
   "cell_type": "code",
   "execution_count": null,
   "id": "bdfd93ee-bb0b-40b2-999c-a67fa7ce55c3",
   "metadata": {},
   "outputs": [],
   "source": []
  },
  {
   "cell_type": "code",
   "execution_count": 2,
   "id": "205fa747-129e-4270-a27f-608e3b64331a",
   "metadata": {},
   "outputs": [
    {
     "data": {
      "text/plain": [
       "\u001b[36mlast\u001b[39m: \u001b[32mList\u001b[39m[\u001b[32mInt\u001b[39m] => \u001b[32mInt\u001b[39m = ammonite.$sess.cmd2$Helper$$Lambda$2882/0x0000000100de6840@573081bf\n",
       "\u001b[36mres2_1\u001b[39m: \u001b[32mInt\u001b[39m = \u001b[32m8\u001b[39m"
      ]
     },
     "execution_count": 2,
     "metadata": {},
     "output_type": "execute_result"
    }
   ],
   "source": [
    "// P01 (*) Find the last element of a list. \n",
    "val last =  (is: List[Int]) => is.last\n",
    "last(List(1, 1, 2, 3, 5, 8))"
   ]
  },
  {
   "cell_type": "code",
   "execution_count": 3,
   "id": "cb593d44-5351-414a-be4f-098049c09ceb",
   "metadata": {},
   "outputs": [
    {
     "data": {
      "text/plain": [
       "\u001b[36mpenultimate\u001b[39m: \u001b[32mList\u001b[39m[\u001b[32mInt\u001b[39m] => \u001b[32mInt\u001b[39m = ammonite.$sess.cmd3$Helper$$Lambda$2886/0x0000000100de7840@78e617a0\n",
       "\u001b[36mres3_1\u001b[39m: \u001b[32mInt\u001b[39m = \u001b[32m5\u001b[39m"
      ]
     },
     "execution_count": 3,
     "metadata": {},
     "output_type": "execute_result"
    }
   ],
   "source": [
    "// P02 (*) Find the last but one element of a list. \n",
    "val penultimate = (is: List[Int]) => is.takeRight(2).head\n",
    "penultimate(List(1, 1, 2, 3, 5, 8))"
   ]
  },
  {
   "cell_type": "code",
   "execution_count": 4,
   "id": "d5d1442f-8d79-4029-bd86-1ff3a09ed6f9",
   "metadata": {},
   "outputs": [
    {
     "data": {
      "text/plain": [
       "\u001b[36mnth\u001b[39m: (\u001b[32mInt\u001b[39m, \u001b[32mList\u001b[39m[\u001b[32mInt\u001b[39m]) => \u001b[32mInt\u001b[39m = ammonite.$sess.cmd4$Helper$$Lambda$2897/0x00000001005e7040@6fb101f\n",
       "\u001b[36mres4_1\u001b[39m: \u001b[32mInt\u001b[39m = \u001b[32m2\u001b[39m"
      ]
     },
     "execution_count": 4,
     "metadata": {},
     "output_type": "execute_result"
    }
   ],
   "source": [
    "//P03 (*) Find the Kth element of a list. \n",
    "val nth = (n: Int, is: List[Int]) => is.apply(n)\n",
    "nth(2, List(1, 1, 2, 3, 5, 8))"
   ]
  },
  {
   "cell_type": "code",
   "execution_count": 5,
   "id": "6cd41e81-ea72-4dc8-ade3-674cf88d2e4e",
   "metadata": {},
   "outputs": [
    {
     "data": {
      "text/plain": [
       "\u001b[36mlength\u001b[39m: \u001b[32mList\u001b[39m[\u001b[32mInt\u001b[39m] => \u001b[32mInt\u001b[39m = ammonite.$sess.cmd5$Helper$$Lambda$2900/0x00000001005e6840@7feacecc\n",
       "\u001b[36mres5_1\u001b[39m: \u001b[32mInt\u001b[39m = \u001b[32m6\u001b[39m"
      ]
     },
     "execution_count": 5,
     "metadata": {},
     "output_type": "execute_result"
    }
   ],
   "source": [
    "// P04 (*) Find the number of elements of a list.\n",
    "val length = (is: List[Int]) => is.length\n",
    "length(List(1, 1, 2, 3, 5, 8))"
   ]
  },
  {
   "cell_type": "code",
   "execution_count": 6,
   "id": "4296ca51-b8f5-4cff-9f00-855bd6710320",
   "metadata": {},
   "outputs": [
    {
     "data": {
      "text/plain": [
       "\u001b[36mreverse\u001b[39m: \u001b[32mList\u001b[39m[\u001b[32mInt\u001b[39m] => \u001b[32mList\u001b[39m[\u001b[32mInt\u001b[39m] = ammonite.$sess.cmd6$Helper$$Lambda$2903/0x00000001005e4840@3a9df6b3\n",
       "\u001b[36mres6_1\u001b[39m: \u001b[32mList\u001b[39m[\u001b[32mInt\u001b[39m] = \u001b[33mList\u001b[39m(\u001b[32m8\u001b[39m, \u001b[32m5\u001b[39m, \u001b[32m3\u001b[39m, \u001b[32m2\u001b[39m, \u001b[32m1\u001b[39m, \u001b[32m1\u001b[39m)"
      ]
     },
     "execution_count": 6,
     "metadata": {},
     "output_type": "execute_result"
    }
   ],
   "source": [
    "//P05 (*) Reverse a list.\n",
    "val reverse = (is: List[Int]) => is.reverse\n",
    "\n",
    "reverse(List(1, 1, 2, 3, 5, 8))"
   ]
  },
  {
   "cell_type": "code",
   "execution_count": 7,
   "id": "79852de4-a6e5-40d2-bdcb-978ad99b87ea",
   "metadata": {},
   "outputs": [
    {
     "data": {
      "text/plain": [
       "\u001b[32mimport \u001b[39m\u001b[36mscala.math.round\n",
       "\u001b[39m\n",
       "\u001b[36misPalindrome\u001b[39m: \u001b[32mList\u001b[39m[\u001b[32mInt\u001b[39m] => \u001b[32mBoolean\u001b[39m = ammonite.$sess.cmd7$Helper$$Lambda$2962/0x0000000100e08840@5fac14e7\n",
       "\u001b[36mres7_2\u001b[39m: \u001b[32mBoolean\u001b[39m = \u001b[32mtrue\u001b[39m"
      ]
     },
     "execution_count": 7,
     "metadata": {},
     "output_type": "execute_result"
    }
   ],
   "source": [
    "// P06 (*) Find out whether a list is a palindrome.\n",
    "import scala.math.round\n",
    "val isPalindrome = (is: List[Int]) => is.take(round(is.length.toFloat / 2)).sameElements(is.reverse.take(round(is.length.toFloat / 2)))\n",
    "isPalindrome(List(1, 2, 3, 2, 1))"
   ]
  },
  {
   "cell_type": "code",
   "execution_count": 8,
   "id": "d4102112-28c8-4fea-ad39-5ab304555eb6",
   "metadata": {},
   "outputs": [
    {
     "data": {
      "text/plain": [
       "defined \u001b[32mfunction\u001b[39m \u001b[36mflatten\u001b[39m\n",
       "\u001b[36mres8_1\u001b[39m: \u001b[32mList\u001b[39m[\u001b[32mInt\u001b[39m] = \u001b[33mList\u001b[39m(\u001b[32m1\u001b[39m, \u001b[32m1\u001b[39m, \u001b[32m2\u001b[39m, \u001b[32m3\u001b[39m, \u001b[32m5\u001b[39m, \u001b[32m8\u001b[39m)"
      ]
     },
     "execution_count": 8,
     "metadata": {},
     "output_type": "execute_result"
    }
   ],
   "source": [
    "//P07 (**) Flatten a nested list structure.\n",
    "def flatten(is : List[Any]): List[Int] = is flatMap {\n",
    "    case i: List[Any] => flatten(i)\n",
    "    case e: Int =>  List(e)\n",
    "}\n",
    "flatten(List(List(1, 1), 2, List(3, List(5, 8))))"
   ]
  },
  {
   "cell_type": "code",
   "execution_count": 9,
   "id": "0a0abe06-22a6-4a99-b5aa-ebe95e8dd5b0",
   "metadata": {},
   "outputs": [
    {
     "data": {
      "text/plain": [
       "\u001b[36mcompress\u001b[39m: \u001b[32mList\u001b[39m[\u001b[32mChar\u001b[39m] => \u001b[32mList\u001b[39m[\u001b[32mChar\u001b[39m] = ammonite.$sess.cmd9$Helper$$Lambda$3058/0x0000000100e58840@36ce1650\n",
       "\u001b[36mres9_1\u001b[39m: \u001b[32mList\u001b[39m[\u001b[32mChar\u001b[39m] = \u001b[33mList\u001b[39m(\u001b[32m'e'\u001b[39m, \u001b[32m'a'\u001b[39m, \u001b[32m'b'\u001b[39m, \u001b[32m'c'\u001b[39m, \u001b[32m'd'\u001b[39m)"
      ]
     },
     "execution_count": 9,
     "metadata": {},
     "output_type": "execute_result"
    }
   ],
   "source": [
    "// P08 (**) Eliminate consecutive duplicates of list elements.\n",
    "val compress = (is: List[Char]) => is.toSet.toList\n",
    "\n",
    "compress(List('a', 'a', 'a', 'a', 'b', 'c', 'c', 'a', 'a', 'd', 'e', 'e', 'e', 'e'))"
   ]
  },
  {
   "cell_type": "code",
   "execution_count": 10,
   "id": "99ebe755-5156-4070-a95a-09833c14be9e",
   "metadata": {},
   "outputs": [
    {
     "data": {
      "text/plain": [
       "\u001b[36mpack\u001b[39m: \u001b[32mList\u001b[39m[\u001b[32mChar\u001b[39m] => \u001b[32mIterable\u001b[39m[\u001b[32mList\u001b[39m[\u001b[32mChar\u001b[39m]] = ammonite.$sess.cmd10$Helper$$Lambda$3065/0x0000000100e5d040@56652555\n",
       "\u001b[36mres10_1\u001b[39m: \u001b[32mIterable\u001b[39m[\u001b[32mList\u001b[39m[\u001b[32mChar\u001b[39m]] = \u001b[33mIterable\u001b[39m(\n",
       "  \u001b[33mList\u001b[39m(\u001b[32m'e'\u001b[39m, \u001b[32m'e'\u001b[39m, \u001b[32m'e'\u001b[39m, \u001b[32m'e'\u001b[39m),\n",
       "  \u001b[33mList\u001b[39m(\u001b[32m'a'\u001b[39m, \u001b[32m'a'\u001b[39m, \u001b[32m'a'\u001b[39m, \u001b[32m'a'\u001b[39m, \u001b[32m'a'\u001b[39m, \u001b[32m'a'\u001b[39m),\n",
       "  \u001b[33mList\u001b[39m(\u001b[32m'b'\u001b[39m),\n",
       "  \u001b[33mList\u001b[39m(\u001b[32m'c'\u001b[39m, \u001b[32m'c'\u001b[39m),\n",
       "  \u001b[33mList\u001b[39m(\u001b[32m'd'\u001b[39m)\n",
       ")"
      ]
     },
     "execution_count": 10,
     "metadata": {},
     "output_type": "execute_result"
    }
   ],
   "source": [
    "// P09 (**) Pack consecutive duplicates of list elements into sublists.\n",
    "val pack = (is: List[Char]) => is.groupBy(i => i).values\n",
    "\n",
    "pack(List('a', 'a', 'a', 'a', 'b', 'c', 'c', 'a', 'a', 'd', 'e', 'e', 'e', 'e'))"
   ]
  },
  {
   "cell_type": "code",
   "execution_count": 20,
   "id": "ed3a74b4-e225-49c0-a317-34954cfccdf5",
   "metadata": {},
   "outputs": [
    {
     "data": {
      "text/plain": [
       "\u001b[36mencode\u001b[39m: \u001b[32mList\u001b[39m[\u001b[32mChar\u001b[39m] => \u001b[32mIterable\u001b[39m[\u001b[32mList\u001b[39m[scala.Function1[scala.collection.immutable.List[scala.Char], scala.collection.Iterable[scala.collection.immutable.List[scala.Int | scala.Char]]]]] = ammonite.$sess.cmd20$Helper$$Lambda$3403/0x0000000100f44040@220a165b\n",
       "\u001b[36mres20_1\u001b[39m: \u001b[32mIterable\u001b[39m[\u001b[32mList\u001b[39m[scala.collection.Iterable[scala.collection.immutable.List[scala.Int | scala.Char]]]] = \u001b[33mList\u001b[39m(\n",
       "  \u001b[33mList\u001b[39m(\u001b[32m4\u001b[39m, \u001b[32m'e'\u001b[39m),\n",
       "  \u001b[33mList\u001b[39m(\u001b[32m6\u001b[39m, \u001b[32m'a'\u001b[39m),\n",
       "  \u001b[33mList\u001b[39m(\u001b[32m1\u001b[39m, \u001b[32m'b'\u001b[39m),\n",
       "  \u001b[33mList\u001b[39m(\u001b[32m2\u001b[39m, \u001b[32m'c'\u001b[39m),\n",
       "  \u001b[33mList\u001b[39m(\u001b[32m1\u001b[39m, \u001b[32m'd'\u001b[39m)\n",
       ")"
      ]
     },
     "execution_count": 20,
     "metadata": {},
     "output_type": "execute_result"
    }
   ],
   "source": [
    "// P10 (*) Run-length encoding of a list. \n",
    "val encode = (is: List[Char]) => is.groupBy(i => i).values.map((i => List(i.length,i.head)))\n",
    "encode(List('a', 'a', 'a', 'a', 'b', 'c', 'c', 'a', 'a', 'd', 'e', 'e', 'e', 'e'))"
   ]
  },
  {
   "cell_type": "code",
   "execution_count": 19,
   "id": "db9396b7-93f1-4f35-a655-7d2a72196706",
   "metadata": {},
   "outputs": [
    {
     "data": {
      "text/plain": [
       "\u001b[36mencodeModified\u001b[39m: \u001b[32mList\u001b[39m[\u001b[32mChar\u001b[39m] => \u001b[32mIterable\u001b[39m[scala.Function1[scala.collection.immutable.List[scala.Char], scala.collection.Iterable[scala.collection.immutable.List[scala.Int | scala.Char] | scala.Char]]] = ammonite.$sess.cmd19$Helper$$Lambda$3398/0x0000000100f41040@686ff1e0\n",
       "\u001b[36mres19_1\u001b[39m: \u001b[32mIterable\u001b[39m[scala.collection.Iterable[scala.collection.immutable.List[scala.Int | scala.Char] | scala.Char]] = \u001b[33mList\u001b[39m(\n",
       "  \u001b[33mList\u001b[39m(\u001b[32m4\u001b[39m, \u001b[32m'e'\u001b[39m),\n",
       "  \u001b[33mList\u001b[39m(\u001b[32m6\u001b[39m, \u001b[32m'a'\u001b[39m),\n",
       "  \u001b[32m'b'\u001b[39m,\n",
       "  \u001b[33mList\u001b[39m(\u001b[32m2\u001b[39m, \u001b[32m'c'\u001b[39m),\n",
       "  \u001b[32m'd'\u001b[39m\n",
       ")"
      ]
     },
     "execution_count": 19,
     "metadata": {},
     "output_type": "execute_result"
    }
   ],
   "source": [
    "// P11 (*) Modified run-length encoding.\n",
    "val encodeModified = (is: List[Char]) => is.groupBy(i => i).values.map((i => if (i.length > 1) List(i.length,i.head) else i.head))\n",
    "encodeModified(List('a', 'a', 'a', 'a', 'b', 'c', 'c', 'a', 'a', 'd', 'e', 'e', 'e', 'e'))"
   ]
  },
  {
   "cell_type": "code",
   "execution_count": 23,
   "id": "47ecb495-5b89-405d-bc9e-2f16d11fa8a9",
   "metadata": {},
   "outputs": [
    {
     "data": {
      "text/plain": [
       "\u001b[36mdecode\u001b[39m: \u001b[32mList\u001b[39m[(\u001b[32mInt\u001b[39m, \u001b[32mChar\u001b[39m)] => \u001b[32mList\u001b[39m[\u001b[32mChar\u001b[39m] = ammonite.$sess.cmd23$Helper$$Lambda$3529/0x0000000100fa7840@29d64aa\n",
       "\u001b[36mres23_1\u001b[39m: \u001b[32mList\u001b[39m[\u001b[32mChar\u001b[39m] = \u001b[33mList\u001b[39m(\n",
       "  \u001b[32m'a'\u001b[39m,\n",
       "  \u001b[32m'a'\u001b[39m,\n",
       "  \u001b[32m'a'\u001b[39m,\n",
       "  \u001b[32m'a'\u001b[39m,\n",
       "  \u001b[32m'b'\u001b[39m,\n",
       "  \u001b[32m'c'\u001b[39m,\n",
       "  \u001b[32m'c'\u001b[39m,\n",
       "  \u001b[32m'a'\u001b[39m,\n",
       "  \u001b[32m'a'\u001b[39m,\n",
       "  \u001b[32m'd'\u001b[39m,\n",
       "  \u001b[32m'e'\u001b[39m,\n",
       "  \u001b[32m'e'\u001b[39m,\n",
       "  \u001b[32m'e'\u001b[39m,\n",
       "  \u001b[32m'e'\u001b[39m\n",
       ")"
      ]
     },
     "execution_count": 23,
     "metadata": {},
     "output_type": "execute_result"
    }
   ],
   "source": [
    "// P12 (**) Decode a run-length encoded list.\n",
    "val decode = (is: List[(Int, Char)]) => is.flatMap((a:Int, b:Char) => b.toString * a)\n",
    "decode(List((4, 'a'), (1, 'b'), (2, 'c'), (2, 'a'), (1, 'd'), (4, 'e')))"
   ]
  },
  {
   "cell_type": "code",
   "execution_count": 24,
   "id": "0ae09750-b84f-4fee-a7d3-accca46aebe0",
   "metadata": {},
   "outputs": [
    {
     "data": {
      "text/plain": [
       "\u001b[36mencodeDirect\u001b[39m: \u001b[32mList\u001b[39m[\u001b[32mChar\u001b[39m] => \u001b[32mIterable\u001b[39m[\u001b[32mList\u001b[39m[scala.Function1[scala.collection.immutable.List[scala.Char], scala.collection.Iterable[scala.collection.immutable.List[scala.Int | scala.Char]]]]] = ammonite.$sess.cmd24$Helper$$Lambda$3533/0x0000000100fa5840@7ac24e5\n",
       "\u001b[36mres24_1\u001b[39m: \u001b[32mIterable\u001b[39m[\u001b[32mList\u001b[39m[scala.collection.Iterable[scala.collection.immutable.List[scala.Int | scala.Char]]]] = \u001b[33mList\u001b[39m(\n",
       "  \u001b[33mList\u001b[39m(\u001b[32m4\u001b[39m, \u001b[32m'e'\u001b[39m),\n",
       "  \u001b[33mList\u001b[39m(\u001b[32m6\u001b[39m, \u001b[32m'a'\u001b[39m),\n",
       "  \u001b[33mList\u001b[39m(\u001b[32m1\u001b[39m, \u001b[32m'b'\u001b[39m),\n",
       "  \u001b[33mList\u001b[39m(\u001b[32m2\u001b[39m, \u001b[32m'c'\u001b[39m),\n",
       "  \u001b[33mList\u001b[39m(\u001b[32m1\u001b[39m, \u001b[32m'd'\u001b[39m)\n",
       ")"
      ]
     },
     "execution_count": 24,
     "metadata": {},
     "output_type": "execute_result"
    }
   ],
   "source": [
    "// P13 (**) Run-length encoding of a list (direct solution).\n",
    "val encodeDirect = (is: List[Char]) => is.groupBy(i => i).values.map((i => List(i.length,i.head)))\n",
    "encodeDirect(List('a', 'a', 'a', 'a', 'b', 'c', 'c', 'a', 'a', 'd', 'e', 'e', 'e', 'e'))"
   ]
  },
  {
   "cell_type": "code",
   "execution_count": 26,
   "id": "d5a01931-fad8-48fd-a776-8a92c2ea1bb4",
   "metadata": {},
   "outputs": [
    {
     "data": {
      "text/plain": [
       "\u001b[36mduplicate\u001b[39m: \u001b[32mList\u001b[39m[\u001b[32mChar\u001b[39m] => \u001b[32mList\u001b[39m[\u001b[32mChar\u001b[39m] = ammonite.$sess.cmd26$Helper$$Lambda$3542/0x0000000100fb4840@21cdf278\n",
       "\u001b[36mres26_1\u001b[39m: \u001b[32mList\u001b[39m[\u001b[32mChar\u001b[39m] = \u001b[33mList\u001b[39m(\u001b[32m'a'\u001b[39m, \u001b[32m'a'\u001b[39m, \u001b[32m'b'\u001b[39m, \u001b[32m'b'\u001b[39m, \u001b[32m'c'\u001b[39m, \u001b[32m'c'\u001b[39m, \u001b[32m'c'\u001b[39m, \u001b[32m'c'\u001b[39m, \u001b[32m'd'\u001b[39m, \u001b[32m'd'\u001b[39m)"
      ]
     },
     "execution_count": 26,
     "metadata": {},
     "output_type": "execute_result"
    }
   ],
   "source": [
    "// P14 (*) Duplicate the elements of a list.\n",
    "val duplicate = (is: List[Char]) => is.flatMap(i=> List(i, i))\n",
    "duplicate(List('a', 'b', 'c', 'c', 'd'))"
   ]
  },
  {
   "cell_type": "code",
   "execution_count": 27,
   "id": "2f256166-bf62-4ccb-a862-85f9bf747967",
   "metadata": {},
   "outputs": [
    {
     "data": {
      "text/plain": [
       "\u001b[36mduplicateN\u001b[39m: (\u001b[32mInt\u001b[39m, \u001b[32mList\u001b[39m[\u001b[32mChar\u001b[39m]) => \u001b[32mList\u001b[39m[\u001b[32mChar\u001b[39m] = ammonite.$sess.cmd27$Helper$$Lambda$3549/0x0000000100fb7840@1b3d02b9\n",
       "\u001b[36mres27_1\u001b[39m: \u001b[32mList\u001b[39m[\u001b[32mChar\u001b[39m] = \u001b[33mList\u001b[39m(\n",
       "  \u001b[32m'a'\u001b[39m,\n",
       "  \u001b[32m'a'\u001b[39m,\n",
       "  \u001b[32m'a'\u001b[39m,\n",
       "  \u001b[32m'b'\u001b[39m,\n",
       "  \u001b[32m'b'\u001b[39m,\n",
       "  \u001b[32m'b'\u001b[39m,\n",
       "  \u001b[32m'c'\u001b[39m,\n",
       "  \u001b[32m'c'\u001b[39m,\n",
       "  \u001b[32m'c'\u001b[39m,\n",
       "  \u001b[32m'c'\u001b[39m,\n",
       "  \u001b[32m'c'\u001b[39m,\n",
       "  \u001b[32m'c'\u001b[39m,\n",
       "  \u001b[32m'd'\u001b[39m,\n",
       "  \u001b[32m'd'\u001b[39m,\n",
       "  \u001b[32m'd'\u001b[39m\n",
       ")"
      ]
     },
     "execution_count": 27,
     "metadata": {},
     "output_type": "execute_result"
    }
   ],
   "source": [
    "// P15 (**) Duplicate the elements of a list a given number of times.\n",
    "val duplicateN = (n: Int, is:List[Char]) => is.flatMap(i => i.toString * n)\n",
    "duplicateN(3, List('a', 'b', 'c', 'c', 'd'))"
   ]
  },
  {
   "cell_type": "code",
   "execution_count": 40,
   "id": "d26a9e80-787c-418c-9dc6-2f6e909ddba6",
   "metadata": {},
   "outputs": [
    {
     "data": {
      "text/plain": [
       "\u001b[36mdrop\u001b[39m: (\u001b[32mInt\u001b[39m, \u001b[32mList\u001b[39m[\u001b[32mChar\u001b[39m]) => \u001b[32mList\u001b[39m[\u001b[32mChar\u001b[39m] = ammonite.$sess.cmd40$Helper$$Lambda$3623/0x0000000100fdf840@6512b254\n",
       "\u001b[36mres40_1\u001b[39m: \u001b[32mList\u001b[39m[\u001b[32mChar\u001b[39m] = \u001b[33mList\u001b[39m(\u001b[32m'a'\u001b[39m, \u001b[32m'b'\u001b[39m, \u001b[32m'd'\u001b[39m, \u001b[32m'e'\u001b[39m, \u001b[32m'g'\u001b[39m, \u001b[32m'h'\u001b[39m, \u001b[32m'j'\u001b[39m, \u001b[32m'k'\u001b[39m)"
      ]
     },
     "execution_count": 40,
     "metadata": {},
     "output_type": "execute_result"
    }
   ],
   "source": [
    "// P16 (**) Drop every NNth element from a list. \n",
    "val drop = (n: Int, is:List[Char]) => is.zipWithIndex.filter((e, i) => i%n!=n-1).map((e, i) => e)\n",
    "drop(3, List('a', 'b', 'c', 'd', 'e', 'f', 'g', 'h', 'i', 'j', 'k'))"
   ]
  },
  {
   "cell_type": "code",
   "execution_count": null,
   "id": "e64cb783-1db2-4bd6-95fc-aef809de9815",
   "metadata": {},
   "outputs": [],
   "source": []
  }
 ],
 "metadata": {
  "kernelspec": {
   "display_name": "Scala",
   "language": "scala3",
   "name": "scala"
  },
  "language_info": {
   "codemirror_mode": "text/x-scala",
   "file_extension": ".sc",
   "mimetype": "text/x-scala",
   "name": "scala",
   "nbconvert_exporter": "script",
   "version": "2.13.16"
  }
 },
 "nbformat": 4,
 "nbformat_minor": 5
}
