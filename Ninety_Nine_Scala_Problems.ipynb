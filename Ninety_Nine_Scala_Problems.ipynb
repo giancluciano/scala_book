{
 "cells": [
  {
   "cell_type": "markdown",
   "id": "5a3ecb34-862e-4450-961e-b463d0b5f9dc",
   "metadata": {},
   "source": [
    "# Ninety-Nine Scala Problems\n",
    "https://aperiodic.net/pip/scala/s-99/"
   ]
  },
  {
   "cell_type": "code",
   "execution_count": 2,
   "id": "205fa747-129e-4270-a27f-608e3b64331a",
   "metadata": {},
   "outputs": [
    {
     "data": {
      "text/plain": [
       "\u001b[36mlast\u001b[39m: \u001b[32mList\u001b[39m[\u001b[32mInt\u001b[39m] => \u001b[32mInt\u001b[39m = ammonite.$sess.cmd2$Helper$$Lambda$3068/0x0000000100e77840@25793e7d\n",
       "\u001b[36mres2_1\u001b[39m: \u001b[32mInt\u001b[39m = \u001b[32m8\u001b[39m"
      ]
     },
     "execution_count": 2,
     "metadata": {},
     "output_type": "execute_result"
    }
   ],
   "source": [
    "// P01 (*) Find the last element of a list. \n",
    "val last =  (is: List[Int]) => is.last\n",
    "last(List(1, 1, 2, 3, 5, 8))"
   ]
  },
  {
   "cell_type": "code",
   "execution_count": 3,
   "id": "cb593d44-5351-414a-be4f-098049c09ceb",
   "metadata": {},
   "outputs": [
    {
     "data": {
      "text/plain": [
       "\u001b[36mpenultimate\u001b[39m: \u001b[32mList\u001b[39m[\u001b[32mInt\u001b[39m] => \u001b[32mInt\u001b[39m = ammonite.$sess.cmd3$Helper$$Lambda$3113/0x0000000100e97840@2673b219\n",
       "\u001b[36mres3_1\u001b[39m: \u001b[32mInt\u001b[39m = \u001b[32m5\u001b[39m"
      ]
     },
     "execution_count": 3,
     "metadata": {},
     "output_type": "execute_result"
    }
   ],
   "source": [
    "// P02 (*) Find the last but one element of a list. \n",
    "val penultimate = (is: List[Int]) => is.takeRight(2).head\n",
    "penultimate(List(1, 1, 2, 3, 5, 8))"
   ]
  },
  {
   "cell_type": "code",
   "execution_count": 4,
   "id": "d5d1442f-8d79-4029-bd86-1ff3a09ed6f9",
   "metadata": {},
   "outputs": [
    {
     "data": {
      "text/plain": [
       "\u001b[36mnth\u001b[39m: (\u001b[32mInt\u001b[39m, \u001b[32mList\u001b[39m[\u001b[32mInt\u001b[39m]) => \u001b[32mInt\u001b[39m = ammonite.$sess.cmd4$Helper$$Lambda$3134/0x0000000100ead040@2c3965a4\n",
       "\u001b[36mres4_1\u001b[39m: \u001b[32mInt\u001b[39m = \u001b[32m2\u001b[39m"
      ]
     },
     "execution_count": 4,
     "metadata": {},
     "output_type": "execute_result"
    }
   ],
   "source": [
    "//P03 (*) Find the Kth element of a list. \n",
    "val nth = (n: Int, is: List[Int]) => is.apply(n)\n",
    "nth(2, List(1, 1, 2, 3, 5, 8))"
   ]
  },
  {
   "cell_type": "code",
   "execution_count": 5,
   "id": "6cd41e81-ea72-4dc8-ade3-674cf88d2e4e",
   "metadata": {},
   "outputs": [
    {
     "data": {
      "text/plain": [
       "\u001b[36mlength\u001b[39m: \u001b[32mList\u001b[39m[\u001b[32mInt\u001b[39m] => \u001b[32mInt\u001b[39m = ammonite.$sess.cmd5$Helper$$Lambda$3137/0x0000000100eae840@3f2c8b43\n",
       "\u001b[36mres5_1\u001b[39m: \u001b[32mInt\u001b[39m = \u001b[32m6\u001b[39m"
      ]
     },
     "execution_count": 5,
     "metadata": {},
     "output_type": "execute_result"
    }
   ],
   "source": [
    "// P04 (*) Find the number of elements of a list.\n",
    "val length = (is: List[Int]) => is.length\n",
    "length(List(1, 1, 2, 3, 5, 8))"
   ]
  },
  {
   "cell_type": "code",
   "execution_count": 6,
   "id": "4296ca51-b8f5-4cff-9f00-855bd6710320",
   "metadata": {},
   "outputs": [
    {
     "data": {
      "text/plain": [
       "\u001b[36mreverse\u001b[39m: \u001b[32mList\u001b[39m[\u001b[32mInt\u001b[39m] => \u001b[32mList\u001b[39m[\u001b[32mInt\u001b[39m] = ammonite.$sess.cmd6$Helper$$Lambda$3140/0x0000000100eaf840@7aa85665\n",
       "\u001b[36mres6_1\u001b[39m: \u001b[32mList\u001b[39m[\u001b[32mInt\u001b[39m] = \u001b[33mList\u001b[39m(\u001b[32m8\u001b[39m, \u001b[32m5\u001b[39m, \u001b[32m3\u001b[39m, \u001b[32m2\u001b[39m, \u001b[32m1\u001b[39m, \u001b[32m1\u001b[39m)"
      ]
     },
     "execution_count": 6,
     "metadata": {},
     "output_type": "execute_result"
    }
   ],
   "source": [
    "//P05 (*) Reverse a list.\n",
    "val reverse = (is: List[Int]) => is.reverse\n",
    "\n",
    "reverse(List(1, 1, 2, 3, 5, 8))"
   ]
  },
  {
   "cell_type": "code",
   "execution_count": 10,
   "id": "79852de4-a6e5-40d2-bdcb-978ad99b87ea",
   "metadata": {},
   "outputs": [
    {
     "data": {
      "text/plain": [
       "\u001b[32mimport \u001b[39m\u001b[36mscala.math.round\n",
       "\u001b[39m\n",
       "\u001b[36misPalindrome\u001b[39m: \u001b[32mList\u001b[39m[\u001b[32mInt\u001b[39m] => \u001b[32mList\u001b[39m[\u001b[32mInt\u001b[39m] = ammonite.$sess.cmd10$Helper$$Lambda$3330/0x0000000100f1b040@b1c1918\n",
       "\u001b[36mres10_2\u001b[39m: \u001b[32mList\u001b[39m[\u001b[32mInt\u001b[39m] = \u001b[33mList\u001b[39m(\u001b[32m1\u001b[39m, \u001b[32m2\u001b[39m, \u001b[32m3\u001b[39m)"
      ]
     },
     "execution_count": 10,
     "metadata": {},
     "output_type": "execute_result"
    }
   ],
   "source": [
    "// P06 (*) Find out whether a list is a palindrome.\n",
    "import scala.math.round\n",
    "val isPalindrome = (is: List[Int]) => is.take(round(is.length.toFloat / 2)).\n",
    "isPalindrome(List(1, 2, 3, 2, 1))"
   ]
  },
  {
   "cell_type": "code",
   "execution_count": null,
   "id": "d4102112-28c8-4fea-ad39-5ab304555eb6",
   "metadata": {},
   "outputs": [],
   "source": []
  }
 ],
 "metadata": {
  "kernelspec": {
   "display_name": "Scala",
   "language": "scala3",
   "name": "scala"
  },
  "language_info": {
   "codemirror_mode": "text/x-scala",
   "file_extension": ".sc",
   "mimetype": "text/x-scala",
   "name": "scala",
   "nbconvert_exporter": "script",
   "version": "2.13.16"
  }
 },
 "nbformat": 4,
 "nbformat_minor": 5
}
