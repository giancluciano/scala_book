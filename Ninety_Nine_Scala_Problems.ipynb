{
 "cells": [
  {
   "cell_type": "markdown",
   "id": "5a3ecb34-862e-4450-961e-b463d0b5f9dc",
   "metadata": {},
   "source": [
    "# Ninety-Nine Scala Problems\n",
    "https://aperiodic.net/pip/scala/s-99/"
   ]
  },
  {
   "cell_type": "code",
   "execution_count": 2,
   "id": "205fa747-129e-4270-a27f-608e3b64331a",
   "metadata": {},
   "outputs": [
    {
     "data": {
      "text/plain": [
       "\u001b[36mlast\u001b[39m: \u001b[32mList\u001b[39m[\u001b[32mInt\u001b[39m] => \u001b[32mInt\u001b[39m = ammonite.$sess.cmd2$Helper$$Lambda$3068/0x0000000100e77840@25793e7d\n",
       "\u001b[36mres2_1\u001b[39m: \u001b[32mInt\u001b[39m = \u001b[32m8\u001b[39m"
      ]
     },
     "execution_count": 2,
     "metadata": {},
     "output_type": "execute_result"
    }
   ],
   "source": [
    "// P01 (*) Find the last element of a list. \n",
    "val last =  (is: List[Int]) => is.last\n",
    "last(List(1, 1, 2, 3, 5, 8))"
   ]
  },
  {
   "cell_type": "code",
   "execution_count": 3,
   "id": "cb593d44-5351-414a-be4f-098049c09ceb",
   "metadata": {},
   "outputs": [
    {
     "data": {
      "text/plain": [
       "\u001b[36mpenultimate\u001b[39m: \u001b[32mList\u001b[39m[\u001b[32mInt\u001b[39m] => \u001b[32mInt\u001b[39m = ammonite.$sess.cmd3$Helper$$Lambda$3113/0x0000000100e97840@2673b219\n",
       "\u001b[36mres3_1\u001b[39m: \u001b[32mInt\u001b[39m = \u001b[32m5\u001b[39m"
      ]
     },
     "execution_count": 3,
     "metadata": {},
     "output_type": "execute_result"
    }
   ],
   "source": [
    "// P02 (*) Find the last but one element of a list. \n",
    "val penultimate = (is: List[Int]) => is.takeRight(2).head\n",
    "penultimate(List(1, 1, 2, 3, 5, 8))"
   ]
  },
  {
   "cell_type": "code",
   "execution_count": null,
   "id": "d5d1442f-8d79-4029-bd86-1ff3a09ed6f9",
   "metadata": {},
   "outputs": [],
   "source": []
  }
 ],
 "metadata": {
  "kernelspec": {
   "display_name": "Scala",
   "language": "scala3",
   "name": "scala"
  },
  "language_info": {
   "codemirror_mode": "text/x-scala",
   "file_extension": ".sc",
   "mimetype": "text/x-scala",
   "name": "scala",
   "nbconvert_exporter": "script",
   "version": "2.13.16"
  }
 },
 "nbformat": 4,
 "nbformat_minor": 5
}
